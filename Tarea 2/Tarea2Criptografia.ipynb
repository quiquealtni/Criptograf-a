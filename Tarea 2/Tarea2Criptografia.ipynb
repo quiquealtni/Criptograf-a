{
  "cells": [
    {
      "cell_type": "markdown",
      "id": "d208cd55",
      "metadata": {
        "id": "d208cd55"
      },
      "source": [
        "# Tarea 2 - Funciones hash y cifrado por bloques\n",
        "\n",
        "1. Se recomienda hacer en equipo (de hasta 4 personas) para poder discutir los problemas y repartir el trabajo.\n",
        "2. Para tu entrega puedes realizar los programas en esta libreta de Jupyter o puedes anexar tus programas en archivos separados. En cualquier caso, agrega comentarios que expliquen el funcionamiento.\n",
        "3. Cualquier tarea plagiada total o parcialmente se calificará con cero. "
      ]
    },
    {
      "cell_type": "markdown",
      "source": [
        "**Alumnos:**\n",
        "\n",
        "-García Gómez Jazmín\n",
        "\n",
        "-Barredo Escalona Paola Betsabe\n",
        "\n",
        "-Luna Piña Erick Eduardo\n",
        "\n",
        "-Altamirano Niño Luis Enrique"
      ],
      "metadata": {
        "id": "DFNQPXZtG5tW"
      },
      "id": "DFNQPXZtG5tW"
    },
    {
      "cell_type": "markdown",
      "id": "3bf4b539",
      "metadata": {
        "id": "3bf4b539"
      },
      "source": [
        "## 1. Vacuna para ransomware (1.5 puntos)\n",
        "\n",
        "Extrae el archivo `mis_archivos.zip`, que contiene el directorio `Mis archivos`. Desde este directorio ejecuta `juego.py` con Python 3:\n",
        "```\t\t\n",
        "Mis archivos$ python3 juego.py\n",
        "```\n",
        "Este programa es un ransomware de juguete, encripta todos los archivos del directorio actual y pide una recompensa para poder recuperar los originales. Haz un programa que funcione como vacuna para el ransomware, es decir, que revierta los cambios que fueron hechos al ejecutar `juego.py`. Cuando se ejecute tu programa en un directorio donde anteriormente se ejecutó el ransomware, se recuperarán los archivos originales (tal como eran, sin ninguna diferencia). Explica y justifica el funcionamiento de tu programa vacuna."
      ]
    },
    {
      "cell_type": "markdown",
      "source": [
        "**Respuesta:**\n",
        "\n",
        "La clave para desarrollar la vacuna fue que conocíamos que la cadena de bytes $d_b$  que se escribía en el archivo oculto *'.xyz'* era tal que $\\text{int.from_bytes}(d_b) = \\text{key}\\lor 1$ donde $\\text{key}$ es la llave que se usó para cifrar los archivos. Después usando el razonamiento de que un $\\text{or}$ de un número cualquiera con 1 solo afecta al bit más a la derecha, se tiene que $\\text{int.from_bytes}(d_b) = \\text{key}- 1$ o $\\text{int.from_bytes}(d_b) = \\text{key}$, de ahí solo tuvimos que leer el arhcivo oculto para obtener el valor de $d_b$ y después la llave($\\text{key}$).\n",
        "\n",
        "A continuación se muestra el código de la vacuna, debe ejecutarse en el mismo directorio que donde se ejecutó el ransomware."
      ],
      "metadata": {
        "id": "a6ItKcwXgu1T"
      },
      "id": "a6ItKcwXgu1T"
    },
    {
      "cell_type": "code",
      "source": [
        "#vacuna para el ransomware\n",
        "# -*- coding: utf-8 -*-\n",
        "from sys import argv,version_info\n",
        "import os\n",
        "assert version_info[0] == 3, 'USA PYTHON 3'\n",
        "\n",
        "print('Descifrando archivos...')\n",
        "#Leemos el archivo oculto generado por el ransomware\n",
        "with open('.xyz','rb') as z:\n",
        "    c = int.from_bytes(z.read(1),'little')\n",
        "    d = int.from_bytes(z.read(32),'big')\n",
        "    k = int.from_bytes(z.read(32),'big')\n",
        "\n",
        "#verificamos si la llave es de la forma k=d-1 o k=d\n",
        "if(k == d*(d-1)%(1<<c)):\n",
        "  key = d -1\n",
        "else:\n",
        "  key = d\n",
        "\n",
        "#Pasamos la llave a bytes\n",
        "keyb = key.to_bytes(16,'big')\n",
        "\n",
        "#Definimos la funcion para descifrar un archivo\n",
        "def descifra(x):\n",
        "    with open(x.replace('.enc',''),'wb') as z:\n",
        "        #Hacemos xor entre la llave y los bytes del archivo\n",
        "        z.write((lambda x:bytes([x[i]^keyb[i%16] for i in range(len(x))])) (open(x,'rb').read()))\n",
        "    #eliminamos el archivo en su version cifrada    \n",
        "    os.remove(x)\n",
        "\n",
        "#obtenemos los nombres de los archivos en el directorio\n",
        "_,_,x = next(os.walk('./'))\n",
        "#excluimos el archivo de la vacuna\n",
        "x.remove(argv[0])\n",
        "#removemos el archivo del ransomware\n",
        "x.remove('juego.py')\n",
        "#Desciframos todos los archivos del directorio\n",
        "list(map(descifra,x))\n",
        "print('\\n Archivos descifrados <3')"
      ],
      "metadata": {
        "colab": {
          "base_uri": "https://localhost:8080/"
        },
        "id": "DmEe7NEaBx5r",
        "outputId": "dfba6017-a7eb-496e-c6de-99d26b9a518b"
      },
      "id": "DmEe7NEaBx5r",
      "execution_count": null,
      "outputs": [
        {
          "output_type": "stream",
          "name": "stdout",
          "text": [
            "149090576740855166249891003669300651085\n",
            "La llave:  149090576740855166249891003669300651084\n",
            ".x\n",
            "216\n",
            "18263894827650607574052860164329200729767996094524250675998989020\n",
            "k-bytes b'\\x00\\x00\\x00\\x00\\x00,e\\xa6O\\xc3\\x13\\xed~\\xf8o\\x1e\\xd0\\x17<\\x8b\\xb3-\\x94\\xfc\\tSC\\x85\\xf8e\\x9a\\xdc'\n",
            "b'\\xd8'\n",
            "k_arch: 18263894827650607574052860164329200729767996094524250675998989020\n",
            "d_arch: 149090576740855166249891003669300651085\n",
            "c_arch: 216\n",
            "False\n",
            "True\n",
            "key 149090576740855166249891003669300651084\n",
            "112\n",
            "llave:  149090576740855166249891003669300651084\n"
          ]
        }
      ]
    },
    {
      "cell_type": "markdown",
      "id": "6b950c78",
      "metadata": {
        "id": "6b950c78"
      },
      "source": [
        "## Funciones hash"
      ]
    },
    {
      "cell_type": "code",
      "execution_count": null,
      "id": "677dfe92",
      "metadata": {
        "id": "677dfe92",
        "colab": {
          "base_uri": "https://localhost:8080/"
        },
        "outputId": "0cdbf6d3-60e2-4e2c-85b3-c0854cf5ff5b"
      },
      "outputs": [
        {
          "output_type": "stream",
          "name": "stdout",
          "text": [
            "Digesto como bytes\n",
            "b'\\xd1\\x19\\xec\\x92\\x00\\x1ba[\\xd5\\xe8\\xd9\\xfc\\xce\\xe4\\xcbhU\\x86\\x9d\\t'\n",
            "\n",
            "Digesto en hexadecimal\n",
            "d119ec92001b615bd5e8d9fccee4cb6855869d09\n"
          ]
        }
      ],
      "source": [
        "from hashlib import sha1\n",
        "\n",
        "datos = b'datos datos xD'\n",
        "\n",
        "print('Digesto como bytes')\n",
        "digesto = sha1(datos).digest()\n",
        "print(digesto)\n",
        "\n",
        "print('\\nDigesto en hexadecimal')\n",
        "digesto_hex = sha1(datos).hexdigest()\n",
        "print(digesto_hex)"
      ]
    },
    {
      "cell_type": "markdown",
      "source": [
        ""
      ],
      "metadata": {
        "id": "lYU9fReWrUez"
      },
      "id": "lYU9fReWrUez"
    },
    {
      "cell_type": "markdown",
      "id": "00eda8c5",
      "metadata": {
        "id": "00eda8c5"
      },
      "source": [
        "## 2. Contraseñas en bases de datos (1.5 puntos)\n",
        "\n",
        "1. El archivo `BD_jaqueada.txt` contiene una lista con los datos de 500 usuarios de un servicio web. La lista incluye el nombre de usuario y el hash de su contraseña. Por la forma de las cadenas en hexadecimal haces la suposición de que cada cadena es de la forma `$salt$H(contraseña||salt)` o `$salt$H(salt||contraseña)`, donde H es una función hash popular con salida de 32 bytes. Usando la lista de contraseñas conocidas `passwords.gz` que se adjunta con este documento, haz un programa para encontrar las contraseñas de los usuarios (por lo menos 50 contraseñas por cada miembro del equipo). Toma en cuenta que la búsqueda puede llevar un buen rato, así que reduce lo más que puedas la cantidad de operaciones realizadas durante la búsqueda. **Advertencia:** el archivo de contraseñas conocidas es muy grande, ten cuidado al usarlo ya que tus programas o incluso tu computadora podrían morir si se acaba la memoria disponible.\n"
      ]
    },
    {
      "cell_type": "markdown",
      "source": [
        "**Respuesta:**\n",
        "\n",
        "Lo primero que se hizo fue checar con el primer hash del archivo `BD_jaqueada.txt` y cada una de las contraseñas del archivo `passwords.gz`, que funcion hash se estaba usando para poder definir después nuestra propia función para descifrar. Para el `usuario0001` la contraseña es `torie2` y sabemos que se usó `sha256`. Sabiendo eso, procedimos a programar una funcion para tratar de descifrar las contraseñas de los usuarios que aparecen en `BD_jaqueada.txt`. El siguiente es el código que se usó para obtener esto:"
      ],
      "metadata": {
        "id": "YAxVU8aFrctP"
      },
      "id": "YAxVU8aFrctP"
    },
    {
      "cell_type": "code",
      "source": [
        "from hashlib import sha256\n",
        "\n",
        "#abrimos los archivos de contraseñas conocidas y de la base de datos con los hash.\n",
        "with open('realhuman_phill.txt','rb') as passwords, open('BD_jaqueada.txt','rt') as bd:\n",
        " \n",
        "    #Obtiene una contraseña del archivo de contraseñas conocidas\n",
        "    def getPassword():\n",
        "        byte =  b''\n",
        "        h = passwords.read(1)\n",
        "        #cuando encontramos un salto de linea terminamos de construir la contraseña\n",
        "        while h!=b'\\n':\n",
        "            h = passwords.read(1)\n",
        "            #quitamos los saltos de linea de las contraseñas\n",
        "            if h!=b'\\n':\n",
        "                byte += h\n",
        "        return byte\n",
        "    \n",
        "    #obtiene un hash del archivo de la base de datos y nos regresa los datos importantes\n",
        "    def getHash():\n",
        "        line = bd.readline().split(' ')\n",
        "        user = line[0]\n",
        "        hash = line[1].replace('\\n','')\n",
        "        splhash = hash.split('$')\n",
        "        salt = splhash[1]\n",
        "        digest = splhash[2]\n",
        "        return user,salt,digest\n",
        "    \n",
        "    #descifra las contraseñas siempre y cuando aparezcan en el archivo de contraseñas conocidas\n",
        "    def decryptPassword():\n",
        "        #Creamos un archivo para guardar las contraseñas encontradas\n",
        "        with open('decryptedpasswords.txt','wt') as dc:\n",
        "            #recorremos los usuarios(500 en total)\n",
        "            for _ in range(500):\n",
        "                user,salt,digest = getHash()\n",
        "                #mostramos en consola que usuario estamos revisando\n",
        "                print(user)\n",
        "                currentPassword = b'\\n'\n",
        "                #recorremos las contraseñas conocidas(en total son 63941069)\n",
        "                for _ in range(63941069):\n",
        "                    #verificamos si la contraseña actual concatenada con el salt nos da el digest necesario\n",
        "                    #en tal caso guardamos esa contraseña en el archivo\n",
        "                    if sha256(bytes.fromhex(salt)+currentPassword).hexdigest() == digest:\n",
        "                        print('sha256 salt||password:', currentPassword)                       \n",
        "                        dc.write(user + ' ' + currentPassword.decode() + '\\n')\n",
        "                        break\n",
        "                    if sha256(currentPassword+bytes.fromhex(salt)).hexdigest() == digest:\n",
        "                        print('sha256 password||salt:', currentPassword)\n",
        "                        dc.write(user + ' ' + currentPassword.decode() + '\\n')\n",
        "                        break\n",
        "                    currentPassword = getPassword()\n",
        "                #regresamos al inicio del archivo de contraseñas conocidas    \n",
        "                passwords.seek(0)\n",
        "    \n",
        "    #intentamos descifrar las contraseñas\n",
        "    decryptPassword()"
      ],
      "metadata": {
        "id": "f-XKKVW-tn4q"
      },
      "id": "f-XKKVW-tn4q",
      "execution_count": null,
      "outputs": []
    },
    {
      "cell_type": "markdown",
      "source": [
        "Cada miembro del equipo se encargó de buscar para 100 usuarios, muchos usuarios no tenían una contraseña conocida,los datos que pudimos obtener fueron:\n",
        "\n",
        "usuario       contraseña\n",
        "\n",
        "`usuario0001` `b'torie2'`\n",
        "\n",
        "`usuario0012` `b'anky'`\n",
        "\n",
        "`usuario0058` `b'BASINGER'`\n",
        "\n",
        "`usuario0092` `b'danalex'`\n",
        "\n",
        "`usuario0095` `b'ptrol'`\n",
        "\n",
        "`usuario0097` `b'e+b'`\n",
        "\n",
        "`usuario0118` `b'571978'`\n",
        "\n",
        "`usuario0134` `b'ESTIMONY'`\n",
        "\n",
        "`usuario0161` `b'GLIMMER'`\n",
        "\n",
        "`usuario0186` `b'reitwiesn'`\n",
        "\n",
        "`usuario0232` `b'tramore'`\n",
        "\n",
        "`usuario0252` `b'annaho'`\n",
        "\n",
        "`usuario0282` `b''`\n",
        "\n",
        "`usuario0303` `b'algi'`\n",
        "\n",
        "`usuario0349` `b'issa1'`\n",
        "\n",
        "`usuario0367` `b'ARICELLA'`\n",
        "\n",
        "`usuario0369` `b'00286'`\n",
        "\n",
        "`usuario0371` `b'iddare'`\n",
        "\n",
        "`usuario0405` `b'cfuxqtald'`\n",
        "\n",
        "`usuario0415` `b'evil-dispelling'`\n",
        "\n",
        "`usuario0422` `b'ATSON1'`\n",
        "\n",
        "`usuario0436` `b'ANALYTIQUE'`\n",
        "\n",
        "`usuario0439` `b'mobolade'`\n",
        "\n",
        "\n",
        "\n",
        "\n",
        "\n",
        "\n",
        "\n"
      ],
      "metadata": {
        "id": "MZjm-6BC5zVK"
      },
      "id": "MZjm-6BC5zVK"
    },
    {
      "cell_type": "markdown",
      "source": [
        "2. En otra base de datos se usó el algoritmo `scrypt` para obtener el hash de las contraseñas, pues con este algoritmo se dificulta la búsqueda mediante listas de contraseñas comunes. `scrypt` tiene varios parámetros que se pueden cambiar para incrementar el costo (en procesador y memoria) de calcular un hash. La biblioteca hashlib incluye `scrypt`, pruébalo y después, usando los parámetros $n=2^{16}, r=8, p=1$ y la cadena salt `0xd8201aae236713fefe9a5266dc1f8012`, encuentra la contraseña de juanito. Es posible que tengas que pasar el parámetro `maxmem=2**30`.\n",
        "```\n",
        "juanito 5f495364792782144918397bdbb72bc04326a883138a11f3d0b61a3d2576ca00\n",
        "```"
      ],
      "metadata": {
        "id": "K-cRPxSTrYIP"
      },
      "id": "K-cRPxSTrYIP"
    },
    {
      "cell_type": "code",
      "source": [
        "#Probando el algoritmo scrypt\n",
        "from hashlib import scrypt\n",
        "\n",
        "scrypt(b'hola',salt=bytes.fromhex(hex(0xd8201aae236713fefe9a5266dc1f8012)[2:]),n=2**16,r=8,p=1,maxmem=2**30)"
      ],
      "metadata": {
        "colab": {
          "base_uri": "https://localhost:8080/"
        },
        "id": "VW6eXRYHzPR-",
        "outputId": "1a94d5be-da25-46d2-8d9f-6c09c6c9cf08"
      },
      "id": "VW6eXRYHzPR-",
      "execution_count": null,
      "outputs": [
        {
          "output_type": "execute_result",
          "data": {
            "text/plain": [
              "b\"x\\x12\\x0b\\xa8\\x0c\\xe5\\xd6\\xef\\x1b\\xbaJE\\x10I\\x9c\\xe0[\\xe1k\\xf5\\x93\\xd2\\xbbT\\xcb\\x0e\\x10V\\xc4a\\x06\\x12\\x9a\\x8bo\\xe4\\xee\\x14\\x95$W\\x92\\xc8\\x9d\\x192e`:\\xddS\\x9a\\xf9\\x86{\\xe4\\xb0\\xcb'r\\xe3\\x0cq,\""
            ]
          },
          "metadata": {},
          "execution_count": 9
        }
      ]
    },
    {
      "cell_type": "code",
      "source": [
        "#codigo para descifrar la contraseña de juanito\n",
        "from hashlib import scrypt\n",
        "with open('realhuman_phill.txt','rb') as passwords:\n",
        "\n",
        "    def getPassword():\n",
        "        byte =  b''\n",
        "        h = passwords.read(1)   \n",
        "        while h!=b'\\n':\n",
        "            if h!=b'\\n':\n",
        "                byte += h\n",
        "            h = passwords.read(1)\n",
        "        return byte\n",
        "    \n",
        "    currentPassword = b'\\n'\n",
        "    saltj = 0xd8201aae236713fefe9a5266dc1f8012\n",
        "    saltj = bytes.fromhex(hex(saltj)[2:])\n",
        "    hashj = '5f495364792782144918397bdbb72bc04326a883138a11f3d0b61a3d2576ca00'\n",
        "\n",
        "    for i in range(63941070):\n",
        "        if scrypt(b'hola',salt=saltj,n=2**16,r=8,p=1,maxmem=2**30)==hashj:\n",
        "            print('contraseña de juanito:', currentPassword)\n",
        "            break\n",
        "        currentPassword = getPassword()"
      ],
      "metadata": {
        "id": "CddcwGc74Iy8"
      },
      "id": "CddcwGc74Iy8",
      "execution_count": null,
      "outputs": []
    },
    {
      "cell_type": "markdown",
      "id": "83866d97",
      "metadata": {
        "id": "83866d97"
      },
      "source": [
        "## 3. Minando pumacoins (1.5 puntos)\n",
        "\n",
        "El pumacoin (PMC) es una criptomoneda (100% real no fake) similar al Bitcoin, pero que en vez de SHA256 utiliza una función hash más moderna llamada BLAKE2. BLAKE2 es una actualización de BLAKE, función hash que participó en la competencia para definir el estándar SHA3 pero que perdió frente a las funciones esponja (Keccak). A pesar de no ser un estándar, la seguridad y velocidad de BLAKE2 han permitido que sea adoptada en bastantes aplicaciones. La biblioteca hashlib de las últimas versiones de Python incluye una implementación de BLAKE2.\n",
        "\n",
        "Para generar un pumacoin, la especificación del protocolo dice que se usa una *prueba de trabajo* definida de la siguiente manera:\n",
        "\n",
        "Dado el identificador de un bloque de transacciones `id`, de longitud 16 bytes, los mineros tienen el reto de encontrar una cadena `x` de 16 bytes tal que el digesto generado por `BLAKE2s-256(id||x)` tiene al principio una cadena de bytes especial. Dicha cadena depende de la cantidad de mineros participando en la red: si hay a lo más 100 mineros la cadena especial es `0x242424`, cuando 100 < núm. de mineros < 5000 la cadena  es `0xf09fa491` y cuando hay 5000 o más mineros la cadena especial es `0xe29a92e29898`. El primer minero que encuentra `x` verifica que el bloque es correcto y comunica a los demás mineros que encontró `x`, a este minero se le recompensa con 1 PMC.\n",
        "\n",
        "1. Implementa una función para minar pumacoins. Recibe como entrada el `id` del bloque y `N` el número de mineros en un momento dado, y como salida da la cadena `x`.\n",
        "2. Resuelve la prueba de trabajo para las entradas `(0xd1c5593465eb5bfb9fcad9adf90af61f, 50)` y `(0x73bf71c8cd6f03c414cd2477a17570c4, 1000)`. Muestra las cadenas encontradas junto con el digesto que generan.\n",
        "3. (Opcional) Intenta con la entrada `(0x68188585019b02d746b48b4d06c15dcf, 5000)`, esto llevará más tiempo dependiendo de la capacidad de tu computadora (y de tu suerte)."
      ]
    },
    {
      "cell_type": "code",
      "source": [
        "#3.1: IMPLEMENTACIÓN DE LA FUNCIÓN PARA MINAR PUMACOINS\n",
        "from hashlib import blake2s\n",
        "import os\n",
        "\n",
        "def minapumacoins(id,N):\n",
        "  #revisamos cual es la cadena especial a encontrar\n",
        "  if(N<=100):\n",
        "    especial = hex(0x242424)[2:]\n",
        "  elif(N in range(101,5000)):\n",
        "    especial = hex(0xf09fa491)[2:]\n",
        "  else:\n",
        "    especial = hex(0x29ea92e29898)[2:]\n",
        "\n",
        "  #generamos una cadena aleatoria de 16 bytes \n",
        "  x = os.urandom(16)\n",
        "  i = False\n",
        "  digesto = ''\n",
        "  #buscamos un valor de x tal que blake2s(x||id) contenga la cadena especial al inicio\n",
        "  while i!=True:\n",
        "    x = os.urandom(16)\n",
        "    digesto = blake2s(bytes.fromhex(hex(id)[2:])+x).hexdigest()\n",
        "    if digesto.find(especial,0,12)==0:\n",
        "      i = True\n",
        "\n",
        "  print(\"X=\",x)\n",
        "  print(\"Digesto=\",digesto)\n",
        "  return x"
      ],
      "metadata": {
        "id": "4mpfSq3rmUlS"
      },
      "id": "4mpfSq3rmUlS",
      "execution_count": null,
      "outputs": []
    },
    {
      "cell_type": "code",
      "source": [
        "#3.2.1\n",
        "minapumacoins(0xd1c5593465eb5bfb9fcad9adf90af61f, 50)"
      ],
      "metadata": {
        "id": "szOOWsVHjqYh",
        "colab": {
          "base_uri": "https://localhost:8080/"
        },
        "outputId": "7a84c0b1-e1b6-45c8-a205-cee65ca17059"
      },
      "id": "szOOWsVHjqYh",
      "execution_count": null,
      "outputs": [
        {
          "output_type": "stream",
          "name": "stdout",
          "text": [
            "X= b'\\x82\\x1a\\x86U\\xeb\\x8e\\xcd;\\xabg\\x1d\\xd06U2\\xb3'\n",
            "Digesto= 24242440f962e4862e57add814c95509a87dcf8096492f0e9963278265a7ed31\n"
          ]
        },
        {
          "output_type": "execute_result",
          "data": {
            "text/plain": [
              "b'\\x82\\x1a\\x86U\\xeb\\x8e\\xcd;\\xabg\\x1d\\xd06U2\\xb3'"
            ]
          },
          "metadata": {},
          "execution_count": 3
        }
      ]
    },
    {
      "cell_type": "markdown",
      "source": [
        "**Respuesta:**\n",
        "\n",
        "$x=$ `b'\\x82\\x1a\\x86U\\xeb\\x8e\\xcd;\\xabg\\x1d\\xd06U2\\xb3'`"
      ],
      "metadata": {
        "id": "ZE22Stg-2BBa"
      },
      "id": "ZE22Stg-2BBa"
    },
    {
      "cell_type": "code",
      "source": [
        "#3.2.2\n",
        "minapumacoins(0x73bf71c8cd6f03c414cd2477a17570c4, 1000)"
      ],
      "metadata": {
        "id": "gwcDVpHI1_Ep"
      },
      "id": "gwcDVpHI1_Ep",
      "execution_count": null,
      "outputs": []
    },
    {
      "cell_type": "markdown",
      "source": [
        "**Respuesta:**\n",
        "\n",
        "$x=$ `b'\\x0bw\\xba\\xea^\\x01\\x03\\xa8YY\\x1b^\\x85\\xfe\\xc8\\xb8'`"
      ],
      "metadata": {
        "id": "HVZpRu6D2j1S"
      },
      "id": "HVZpRu6D2j1S"
    },
    {
      "cell_type": "code",
      "source": [
        "#3.3\n",
        "minapumacoins(0x68188585019b02d746b48b4d06c15dcf, 5000)"
      ],
      "metadata": {
        "id": "zz-AqeKPyq4R"
      },
      "id": "zz-AqeKPyq4R",
      "execution_count": null,
      "outputs": []
    },
    {
      "cell_type": "markdown",
      "id": "f0e3a51d",
      "metadata": {
        "id": "f0e3a51d"
      },
      "source": [
        "## Modos de operación en cifrado por bloques\n",
        "\n",
        "Recordemos que los cifradores por bloques solamente funcionan con mensajes de una longitud fija (longitud de bloque). Para poder encriptar un mensaje de longitud arbitraria lo que se hace es\n",
        "1. Agregar un relleno al final del mensaje para que su longitud sea un múltiplo de la longitud de bloque.\n",
        "2. Dividir el mensaje en bloques.\n",
        "3. Aplicar el algoritmo de cifrado.\n",
        "\n",
        "El paso 3 puede hacerse de distintas maneras, a cada de una de ellas le llamamos **modo de operación**. Existen muchos modos de operación, varios de ellos están definidos en estándares, pero en esta tarea solamente abordaremos tres de ellos.\n",
        "\n",
        "#### Modo ECB\n",
        "\n",
        "El modo de operación más directo e *inseguro* se conoce como Electronic Codebook o ECB. Consiste en inicializar el algoritmo con la llave *k* y aplicarlo en cada bloque del mensaje. Más detalladamente, si $E_k$ es nuestro algoritmo cifrador inicializado con la llave $k$ y tenemos el mensaje $m = m_1m_2\\cdots m_n$, donde cada $m_i$ es un bloque, obtenemos el mensaje cifrado $c = c_1c_2\\cdots c_n$ donde $c_i = E_k(m_i)$.\n",
        "![](https://upload.wikimedia.org/wikipedia/commons/thumb/d/d6/ECB_encryption.svg/600px-ECB_encryption.svg.png \"Modo ECB\")\n",
        "\n",
        "En clase vimos que un algoritmo cifrador determinista no es seguro, ya que al aplicarlo a mensajes claros iguales se obtienen mensajes cifrados iguales. De la misma manera, este modo de operación mantiene los patrones que se pueden encontrar en los bloques del mensaje claro. Para arreglar este problema, los modos de operación posteriores utilizan una cadena extra que permite *aleatorizar* el mensaje."
      ]
    },
    {
      "cell_type": "code",
      "execution_count": null,
      "id": "44430e30",
      "metadata": {
        "id": "44430e30"
      },
      "outputs": [],
      "source": [
        "import os\n",
        "from cryptography.hazmat.primitives.ciphers import Cipher\n",
        "from cryptography.hazmat.primitives.ciphers.algorithms import AES\n",
        "from cryptography.hazmat.primitives.ciphers.modes import ECB\n",
        "\n",
        "key = os.urandom(16)\n",
        "#key = b'Mi llave secreta'\n",
        "# Se inicializa AES con la llave y el modo ECB\n",
        "aes_k = Cipher(AES(key), ECB())\n",
        "enc = aes_k.encryptor()\n",
        "# Mensaje de tres bloques de longitud\n",
        "mensaje = b'un bloke secreto' + b'-'*16 + b'un bloke secreto'\n",
        "mensaje_cifrado = enc.update(mensaje) + enc.finalize()\n",
        "print('Bloques cifrados')\n",
        "print(mensaje_cifrado[:16].hex(), mensaje_cifrado[16:32].hex(), mensaje_cifrado[32:].hex())\n",
        "\n",
        "dec = aes_k.decryptor()\n",
        "mensaje_descifrado = dec.update(mensaje_cifrado) + dec.finalize()\n",
        "print('Mensaje descifrado')\n",
        "print(mensaje_descifrado)"
      ]
    },
    {
      "cell_type": "markdown",
      "id": "2dfaac99",
      "metadata": {
        "id": "2dfaac99"
      },
      "source": [
        "#### Modo CBC\n",
        "El modo de operación Cipher block chaining o CBC usa un *vector de inicialización* $IV$ para aleatorizar el mensaje claro. Para encriptar $m = m_1m_2\\cdots m_n$, definimos $c_0 = IV$ y obtenemos el mensaje cifrado $c = c_0c_1c_2\\cdots c_n$, donde $c_i = E_k(m_i\\oplus c_{i-1})$; nota que $IV$ se agrega al inicio del mensaje cifrado para que pueda ser usado a la hora de descifrar.\n",
        "![](https://upload.wikimedia.org/wikipedia/commons/thumb/8/80/CBC_encryption.svg/640px-CBC_encryption.svg.png \"Modo CBC\")"
      ]
    },
    {
      "cell_type": "code",
      "execution_count": null,
      "id": "7f466b5d",
      "metadata": {
        "id": "7f466b5d"
      },
      "outputs": [],
      "source": [
        "from cryptography.hazmat.primitives.ciphers.modes import CBC\n",
        "\n",
        "key = os.urandom(16)\n",
        "iv = os.urandom(16)\n",
        "# Se inicializa AES con la llave y el modo CBC, que requiere un IV\n",
        "aes_k = Cipher(AES(key), CBC(iv))\n",
        "enc = aes_k.encryptor()\n",
        "mensaje = b'un bloke secreto' + b'-'*16 + b'un bloke secreto'\n",
        "mensaje_cifrado = enc.update(mensaje) + enc.finalize()\n",
        "print('Bloques cifrados')\n",
        "print(mensaje_cifrado[:16].hex(), mensaje_cifrado[16:32].hex(), mensaje_cifrado[32:].hex())\n",
        "\n",
        "dec = aes_k.decryptor()\n",
        "mensaje_descifrado = dec.update(mensaje_cifrado) + dec.finalize()\n",
        "print('Mensaje descifrado')\n",
        "print(mensaje_descifrado)"
      ]
    },
    {
      "cell_type": "markdown",
      "id": "c5477a82",
      "metadata": {
        "id": "c5477a82"
      },
      "source": [
        "#### Modo CTR\n",
        "\n",
        "En el modo CTR (de contador) el algoritmo de cifrado se aplica a una cadena $IV||ctr$, donde $IV$ es un vector de inicialización generado aleatoriamente y $ctr$ es una cadena que sirve como contador (el símbolo $||$ se refiere a concatenación). La cadena $IV||ctr$ será la entrada de $E_k$ y el valor del contador se incrementa en uno por cada bloque del mensaje claro. El mensaje cifrado es el XOR de los bloques claros y la salida correspondiente de $E_k$, es decir, el mensaje claro $m = m_1m_2\\cdots m_n$ se cifra en el mensaje $c = c_0c_1\\cdots c_n$, donde $c_0 = IV$ y para los demás bloques $ c_i = E_k(IV||i) \\oplus m_i$.\n",
        "![](https://upload.wikimedia.org/wikipedia/commons/thumb/4/4d/CTR_encryption_2.svg/640px-CTR_encryption_2.svg.png \"Modo CTR\")"
      ]
    },
    {
      "cell_type": "markdown",
      "id": "a2c14c9d",
      "metadata": {
        "id": "a2c14c9d"
      },
      "source": [
        "### Padding\n",
        "El relleno o padding que se agrega a los bloques para que tengan el tamaño adecuado puede ser arbitrario (en tanto pueda ser quitado sin ambigüedad). En esta tarea usarás el padding que consiste en agregar la secuencia de bytes BB...B de longitud igual a B, donde B es un entero entre 1 y 16. Por ejemplo, si queremos rellenar la cadena `hola mundo` para tener un bloque de 16 bytes, se agregará la cadena de 6 bytes `0x060606060606`, o la cadena `A` se rellena con la cadena `0x0f0f0f0f0f0f0f0f0f0f0f0f0f0f0f`."
      ]
    },
    {
      "cell_type": "markdown",
      "id": "355c4cfc",
      "metadata": {
        "id": "355c4cfc"
      },
      "source": [
        "## 4. Implementando modos de operación (1.5 puntos)\n",
        "\n",
        "Investiga el proceso de descifrado para los modos CBC y CTR (puedes tratar de deducirlo revisando los diagramas mostrados arriba). Luego implementa las funciones de cifrado y descifrado de los modos CBC y CTR usando AES con llaves de 128 bits, para eso vas a utilizar el modo ECB como base para poder aplicar $AES_k$ o $AES_k^{-1}$ según corresponda. Tus funciones aceptarán mensajes de tamaño arbitrario, por lo cual tienen que agregar un relleno según sea necesario. Las funciones de descifrado devolverán el texto claro solamente si el padding del mensaje es correcto, en caso contrario lanzarán una excepción.  El objetivo es que tú programes los modos de operación, por lo cual no puedes usar los modos CBC y CTR que vienen incluidos en bibliotecas."
      ]
    },
    {
      "cell_type": "code",
      "execution_count": null,
      "id": "56867b98",
      "metadata": {
        "id": "56867b98"
      },
      "outputs": [],
      "source": [
        "from cryptography.hazmat.primitives.ciphers import Cipher\n",
        "from cryptography.hazmat.primitives.ciphers.algorithms import AES\n",
        "from cryptography.hazmat.primitives.ciphers.modes import ECB\n",
        "\n",
        "def aes128_cbc_enc(llave, mensaje):\n",
        "    aes = Cipher(AES(key), ECB())\n",
        "    enc = aes.encryptor()\n",
        "    # FALTA IMPLEMENTAR\n",
        "\n",
        "def aes128_cbc_dec(llave, cifrado):\n",
        "    # FALTA IMPLEMENTAR\n",
        "    \n",
        "def aes128_ctr_enc(llave, mensaje):\n",
        "    # FALTA IMPLEMENTAR\n",
        "    \n",
        "def aes128_ctr_dec(llave, cifrado):\n",
        "    # FALTA IMPLEMENTAR"
      ]
    },
    {
      "cell_type": "code",
      "execution_count": null,
      "id": "bb124822",
      "metadata": {
        "id": "bb124822"
      },
      "outputs": [],
      "source": [
        "# Para hacer pruebas\n",
        "llave = b'Mi llave secreta'\n",
        "mensaje = b'Mensaje de texto mas grande que un bloque y de longitud que si es multiplo de 16'\n",
        "mensaje2 = b'UwU'"
      ]
    }
  ],
  "metadata": {
    "kernelspec": {
      "display_name": "Python 3 (ipykernel)",
      "language": "python",
      "name": "python3"
    },
    "language_info": {
      "codemirror_mode": {
        "name": "ipython",
        "version": 3
      },
      "file_extension": ".py",
      "mimetype": "text/x-python",
      "name": "python",
      "nbconvert_exporter": "python",
      "pygments_lexer": "ipython3",
      "version": "3.6.9"
    },
    "colab": {
      "name": "Tarea2Criptografia.ipynb",
      "provenance": [],
      "collapsed_sections": [
        "3bf4b539",
        "f0e3a51d",
        "355c4cfc"
      ]
    }
  },
  "nbformat": 4,
  "nbformat_minor": 5
}